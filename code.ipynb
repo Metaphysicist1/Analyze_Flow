{
 "cells": [
  {
   "cell_type": "code",
   "execution_count": 1,
   "metadata": {},
   "outputs": [],
   "source": [
    "##### Star Importing / Initializing"
   ]
  },
  {
   "cell_type": "code",
   "execution_count": 2,
   "metadata": {},
   "outputs": [
    {
     "name": "stderr",
     "output_type": "stream",
     "text": [
      "23/11/18 03:33:35 WARN Utils: Your hostname, Scotland-Yard resolves to a loopback address: 127.0.1.1; using 192.168.34.193 instead (on interface wlo1)\n",
      "23/11/18 03:33:35 WARN Utils: Set SPARK_LOCAL_IP if you need to bind to another address\n",
      "Setting default log level to \"WARN\".\n",
      "To adjust logging level use sc.setLogLevel(newLevel). For SparkR, use setLogLevel(newLevel).\n",
      "23/11/18 03:33:36 WARN NativeCodeLoader: Unable to load native-hadoop library for your platform... using builtin-java classes where applicable\n"
     ]
    },
    {
     "name": "stdout",
     "output_type": "stream",
     "text": [
      "<SparkContext master=local[*] appName=pyspark-shell>\n",
      "3.5.0\n"
     ]
    }
   ],
   "source": [
    "import pyspark as s\n",
    "\n",
    "sc = s.SparkContext.getOrCreate()\n",
    "\n",
    "print(sc)\n",
    "print(sc.version)\n"
   ]
  },
  {
   "cell_type": "code",
   "execution_count": 3,
   "metadata": {},
   "outputs": [
    {
     "name": "stdout",
     "output_type": "stream",
     "text": [
      "<pyspark.sql.session.SparkSession object at 0x7fb92c70c340>\n"
     ]
    }
   ],
   "source": [
    "from pyspark.sql import SparkSession\n",
    "\n",
    "spark = SparkSession.builder.appName(\"Code\").getOrCreate()\n",
    "\n",
    "print(spark)"
   ]
  },
  {
   "cell_type": "code",
   "execution_count": 4,
   "metadata": {},
   "outputs": [
    {
     "name": "stderr",
     "output_type": "stream",
     "text": [
      "/home/metaphysicist/Coding/Projects/Data_Projects/Analyze_Flow/.venv/lib/python3.10/site-packages/pyspark/sql/pandas/conversion.py:485: FutureWarning: is_datetime64tz_dtype is deprecated and will be removed in a future version. Check `isinstance(dtype, pd.DatetimeTZDtype)` instead.\n",
      "  if should_localize and is_datetime64tz_dtype(s.dtype) and s.dt.tz is not None:\n"
     ]
    },
    {
     "name": "stdout",
     "output_type": "stream",
     "text": [
      "[]\n",
      "[Table(name='temp', catalog=None, namespace=[], description=None, tableType='TEMPORARY', isTemporary=True)]\n"
     ]
    }
   ],
   "source": [
    "import pandas as pd\n",
    "import numpy as np\n",
    "\n",
    "pd_temp = pd.DataFrame(np.random.random(10))\n",
    "\n",
    "spark_temp = spark.createDataFrame(pd_temp)\n",
    "\n",
    "print(spark.catalog.listTables())\n",
    "\n",
    "spark_temp.createOrReplaceTempView('temp')\n",
    "print(spark.catalog.listTables())"
   ]
  },
  {
   "cell_type": "markdown",
   "metadata": {},
   "source": [
    "##### Load\n"
   ]
  },
  {
   "cell_type": "code",
   "execution_count": 5,
   "metadata": {},
   "outputs": [
    {
     "name": "stderr",
     "output_type": "stream",
     "text": [
      "23/11/18 03:33:41 WARN SparkStringUtils: Truncated the string representation of a plan since it was too large. This behavior can be adjusted by setting 'spark.sql.debug.maxToStringFields'.\n"
     ]
    },
    {
     "name": "stdout",
     "output_type": "stream",
     "text": [
      "+------------------+------------+-----------------------+--------------+---------------------+--------------------+-------------------+--------------------+----------------+-------------------+-----------------------------+-------------+----------------+-----------+--------------------+---------------+------------+---------------+----------------+----+----+----+------------+------+---------+--------+--------+\n",
      "|DCA License Number|License Type|License Expiration Date|License Status|License Creation Date|            Industry|      Business Name|     Business Name 2|Address Building|Address Street Name|Secondary Address Street Name| Address City|   Address State|Address ZIP|Contact Phone Number|Address Borough|Borough Code|Community Board|Council District| BIN| BBL| NTA|Census Tract|Detail|Longitude|Latitude|Location|\n",
      "+------------------+------------+-----------------------+--------------+---------------------+--------------------+-------------------+--------------------+----------------+-------------------+-----------------------------+-------------+----------------+-----------+--------------------+---------------+------------+---------------+----------------+----+----+----+------------+------+---------+--------+--------+\n",
      "|       0967332-DCA|    Business|             02/28/2017|      Inactive|           02/04/2010|Home Improvement ...|BARBARINO, JOHN JR.|JOHN BARBARINO JR...|             239|         MEDFORD CT|                         NULL|    MANALAPAN|              NJ|      07726|          0985214786|    Outside NYC|        NULL|           NULL|            NULL|NULL|NULL|NULL|        NULL|  NULL|     NULL|    NULL|    NULL|\n",
      "|       2103411-DCA|  Individual|             03/31/2024|        Active|           01/11/2022|   Sightseeing Guide|    Nieciak, Joseph|                NULL|            NULL|               NULL|                         NULL|     BROOKLYN|              NY|      11214|                NULL|           NULL|        NULL|           NULL|            NULL|NULL|NULL|NULL|        NULL|  NULL|     NULL|    NULL|    NULL|\n",
      "|       2060087-DCA|  Individual|             03/31/2024|        Active|           10/31/2017|   Sightseeing Guide|      Arcaro, Tyler|                NULL|            NULL|               NULL|                         NULL|     NEW YORK|              NY|      10028|                NULL|           NULL|        NULL|           NULL|            NULL|NULL|NULL|NULL|        NULL|  NULL|     NULL|    NULL|    NULL|\n",
      "|       2078026-DCA|  Individual|             03/31/2024|        Active|           09/11/2018|   Sightseeing Guide|     HESSE, DAPHNEE|                NULL|            NULL|               NULL|                         NULL|    Vancouver|British Columbia|      V6Z1C|                NULL|           NULL|        NULL|           NULL|            NULL|NULL|NULL|NULL|        NULL|  NULL|     NULL|    NULL|    NULL|\n",
      "|       2057801-DCA|  Individual|             02/28/2019|      Inactive|           09/01/2017|Home Improvement ...|     ESCOBAR, KEVIN|                NULL|            NULL|               NULL|                         NULL|      CHESTER|              PA|      19013|                NULL|           NULL|        NULL|           NULL|            NULL|NULL|NULL|NULL|        NULL|  NULL|     NULL|    NULL|    NULL|\n",
      "|       1415974-DCA|  Individual|             10/31/2012|      Inactive|           12/21/2011|    Tow Truck Driver|   MIRABELLA, DONNA|                NULL|            NULL|               NULL|                         NULL|STATEN ISLAND|              NY|      10302|                NULL|           NULL|        NULL|           NULL|            NULL|NULL|NULL|NULL|        NULL|  NULL|     NULL|    NULL|    NULL|\n",
      "|       2021326-DCA|  Individual|             02/28/2017|      Inactive|           04/20/2015|Home Improvement ...|       BEHAR, LARRY|                NULL|            NULL|               NULL|                         NULL|      WANTAGH|              NY|      11793|                NULL|           NULL|        NULL|           NULL|            NULL|NULL|NULL|NULL|        NULL|  NULL|     NULL|    NULL|    NULL|\n",
      "|       0867157-DCA|  Individual|             03/31/2024|        Active|           05/23/2000|   Sightseeing Guide|    RACOND, BRUCE I|                NULL|            NULL|               NULL|                         NULL|     NEW YORK|              NY|      10023|                NULL|           NULL|        NULL|           NULL|            NULL|NULL|NULL|NULL|        NULL|  NULL|     NULL|    NULL|    NULL|\n",
      "|       2029953-DCA|  Individual|             10/31/2016|      Inactive|           10/29/2015|    Tow Truck Driver|    Rodriguez, Juan|                NULL|            NULL|               NULL|                         NULL|        BRONX|              NY|      10460|                NULL|           NULL|        NULL|           NULL|            NULL|NULL|NULL|NULL|        NULL|  NULL|     NULL|    NULL|    NULL|\n",
      "|       2107503-DCA|  Individual|             07/31/2023|        Active|           07/15/2022|       Ticket Seller|      ABUBAKAR, ALI|                NULL|            NULL|               NULL|                         NULL|        BRONX|              NY|      10454|                NULL|           NULL|        NULL|           NULL|            NULL|NULL|NULL|NULL|        NULL|  NULL|     NULL|    NULL|    NULL|\n",
      "+------------------+------------+-----------------------+--------------+---------------------+--------------------+-------------------+--------------------+----------------+-------------------+-----------------------------+-------------+----------------+-----------+--------------------+---------------+------------+---------------+----------------+----+----+----+------------+------+---------+--------+--------+\n",
      "only showing top 10 rows\n",
      "\n"
     ]
    }
   ],
   "source": [
    "data_path = \"Legally_Operating_Businesses.csv\"\n",
    "\n",
    "businesses = spark.read.csv(data_path,header=True)\n",
    "\n",
    "businesses.show(10)\n"
   ]
  },
  {
   "cell_type": "code",
   "execution_count": 6,
   "metadata": {},
   "outputs": [
    {
     "data": {
      "text/plain": [
       "[Database(name='default', catalog='spark_catalog', description='default database', locationUri='file:/home/metaphysicist/Coding/Projects/Data_Projects/Analyze_Flow/spark-warehouse')]"
      ]
     },
     "execution_count": 6,
     "metadata": {},
     "output_type": "execute_result"
    }
   ],
   "source": [
    "spark.catalog.listDatabases()"
   ]
  },
  {
   "cell_type": "code",
   "execution_count": 7,
   "metadata": {},
   "outputs": [
    {
     "data": {
      "text/plain": [
       "['DCA License Number',\n",
       " 'License Type',\n",
       " 'License Expiration Date',\n",
       " 'License Status',\n",
       " 'License Creation Date',\n",
       " 'Industry',\n",
       " 'Business Name',\n",
       " 'Business Name 2',\n",
       " 'Address Building',\n",
       " 'Address Street Name',\n",
       " 'Secondary Address Street Name',\n",
       " 'Address City',\n",
       " 'Address State',\n",
       " 'Address ZIP',\n",
       " 'Contact Phone Number',\n",
       " 'Address Borough',\n",
       " 'Borough Code',\n",
       " 'Community Board',\n",
       " 'Council District',\n",
       " 'BIN',\n",
       " 'BBL',\n",
       " 'NTA',\n",
       " 'Census Tract',\n",
       " 'Detail',\n",
       " 'Longitude',\n",
       " 'Latitude',\n",
       " 'Location']"
      ]
     },
     "execution_count": 7,
     "metadata": {},
     "output_type": "execute_result"
    }
   ],
   "source": [
    "businesses.columns"
   ]
  },
  {
   "cell_type": "markdown",
   "metadata": {},
   "source": [
    "##### Transform\n"
   ]
  },
  {
   "cell_type": "code",
   "execution_count": 8,
   "metadata": {},
   "outputs": [],
   "source": [
    "selected_cols = businesses.select('License Type',\n",
    " 'License Expiration Date',\n",
    " 'License Status',\n",
    " 'License Creation Date',\n",
    " 'Industry',\n",
    " 'Business Name',\n",
    " 'Address City'\n",
    " )\n"
   ]
  },
  {
   "cell_type": "code",
   "execution_count": 9,
   "metadata": {},
   "outputs": [
    {
     "name": "stdout",
     "output_type": "stream",
     "text": [
      "+------------+-----------------------+--------------+---------------------+--------------------+-------------------+-------------+----------------+\n",
      "|License Type|License Expiration Date|License Status|License Creation Date|            Industry|      Business Name| Address City|License_In_Years|\n",
      "+------------+-----------------------+--------------+---------------------+--------------------+-------------------+-------------+----------------+\n",
      "|    Business|             02/28/2017|      Inactive|           02/04/2010|Home Improvement ...|BARBARINO, JOHN JR.|    MANALAPAN|               7|\n",
      "|  Individual|             03/31/2024|        Active|           01/11/2022|   Sightseeing Guide|    Nieciak, Joseph|     BROOKLYN|               2|\n",
      "|  Individual|             03/31/2024|        Active|           10/31/2017|   Sightseeing Guide|      Arcaro, Tyler|     NEW YORK|               6|\n",
      "|  Individual|             03/31/2024|        Active|           09/11/2018|   Sightseeing Guide|     HESSE, DAPHNEE|    Vancouver|               6|\n",
      "|  Individual|             02/28/2019|      Inactive|           09/01/2017|Home Improvement ...|     ESCOBAR, KEVIN|      CHESTER|               1|\n",
      "|  Individual|             10/31/2012|      Inactive|           12/21/2011|    Tow Truck Driver|   MIRABELLA, DONNA|STATEN ISLAND|               1|\n",
      "|  Individual|             02/28/2017|      Inactive|           04/20/2015|Home Improvement ...|       BEHAR, LARRY|      WANTAGH|               2|\n",
      "|  Individual|             03/31/2024|        Active|           05/23/2000|   Sightseeing Guide|    RACOND, BRUCE I|     NEW YORK|              24|\n",
      "|  Individual|             10/31/2016|      Inactive|           10/29/2015|    Tow Truck Driver|    Rodriguez, Juan|        BRONX|               1|\n",
      "|  Individual|             07/31/2023|        Active|           07/15/2022|       Ticket Seller|      ABUBAKAR, ALI|        BRONX|               1|\n",
      "+------------+-----------------------+--------------+---------------------+--------------------+-------------------+-------------+----------------+\n",
      "only showing top 10 rows\n",
      "\n"
     ]
    }
   ],
   "source": [
    "from pyspark.sql.functions import datediff, to_date,  months_between,col,round, cast\n",
    "\n",
    "selected_cols = selected_cols.withColumn('License_In_Month',round(months_between(\n",
    "        to_date('License Expiration Date',\"MM/dd/yyyy\"),\n",
    "        to_date('License Creation Date',\"MM/dd/yyyy\")).cast(\"int\"))\n",
    "        )\n",
    "\n",
    "selected_cols = selected_cols.withColumn('License_In_Years',round(col(\"License_In_Month\")/12).cast(\"int\"))\n",
    "\n",
    "selected_cols = selected_cols.drop(\"License_Duration\",\"License_In_Month\")\n",
    "# print(help(col))\n",
    "# val = selected_cols.select('License Creation Date')\n",
    "# print(type(val)) \n",
    "selected_cols.show(10)"
   ]
  },
  {
   "cell_type": "code",
   "execution_count": 11,
   "metadata": {},
   "outputs": [
    {
     "name": "stdout",
     "output_type": "stream",
     "text": [
      "root\n",
      " |-- License Type: string (nullable = true)\n",
      " |-- License Expiration Date: string (nullable = true)\n",
      " |-- License Status: string (nullable = true)\n",
      " |-- License Creation Date: string (nullable = true)\n",
      " |-- Industry: string (nullable = true)\n",
      " |-- Business Name: string (nullable = true)\n",
      " |-- Address City: string (nullable = true)\n",
      " |-- License_In_Years: integer (nullable = true)\n",
      "\n"
     ]
    }
   ],
   "source": [
    "# selected_cols.describe().show()\n",
    "selected_cols = selected_cols.drop_duplicates()\n",
    "selected_cols.dtypes\n",
    "selected_cols.printSchema()\n",
    "# write analytics of dataframe selected_cols to csv file\n"
   ]
  }
 ],
 "metadata": {
  "kernelspec": {
   "display_name": ".venv",
   "language": "python",
   "name": "python3"
  },
  "language_info": {
   "codemirror_mode": {
    "name": "ipython",
    "version": 3
   },
   "file_extension": ".py",
   "mimetype": "text/x-python",
   "name": "python",
   "nbconvert_exporter": "python",
   "pygments_lexer": "ipython3",
   "version": "3.10.12"
  }
 },
 "nbformat": 4,
 "nbformat_minor": 2
}
