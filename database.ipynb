{
 "cells": [
  {
   "cell_type": "code",
   "execution_count": 2,
   "metadata": {},
   "outputs": [],
   "source": [
    "import psycopg2\n",
    "import pandas as pd\n",
    "import numpy as np\n",
    "from dotenv import load_dotenv\n",
    "import os"
   ]
  },
  {
   "cell_type": "markdown",
   "metadata": {},
   "source": [
    "##### Function For Creating Database"
   ]
  },
  {
   "cell_type": "code",
   "execution_count": 3,
   "metadata": {},
   "outputs": [],
   "source": [
    "\n",
    "def create_database(dbname):\n",
    "    # connect to default database\n",
    "    load_dotenv(\".env\")\n",
    "    login = os.getenv(\"DB_Login\")\n",
    "    password = os.getenv(\"DB_Pass\")\n",
    "    conn = psycopg2.connect(f\"host=127.0.0.1 dbname={dbname} user={login} password={password}\")\n",
    "    conn.set_session(autocommit=True)\n",
    "    cur = conn.cursor()\n",
    "    return cur, conn"
   ]
  },
  {
   "cell_type": "markdown",
   "metadata": {},
   "source": [
    "##### Connecting with root Database & Creating Our Current Database"
   ]
  },
  {
   "cell_type": "code",
   "execution_count": 4,
   "metadata": {},
   "outputs": [],
   "source": [
    "cur,conn=create_database('Fabric')\n",
    "\n"
   ]
  },
  {
   "cell_type": "markdown",
   "metadata": {},
   "source": [
    "##### Creating Tables"
   ]
  },
  {
   "cell_type": "code",
   "execution_count": 5,
   "metadata": {},
   "outputs": [],
   "source": [
    "# creating table License_Dates\n",
    "cur.execute(\"\"\"\n",
    "    CREATE TABLE IF NOT EXISTS  \"License_Dates\"(\n",
    "    \"PK_Date_ID\" BIGINT NOT NULL  PRIMARY KEY,\n",
    "    \"Expiration Date\" DATE NOT NULL,\n",
    "    \"Creation Date\" DATE NOT NULL,\n",
    "    \"Num_Years\" INTEGER NOT NULL\n",
    ");\"\"\")\n",
    "\n",
    "# creating table Business_Info\n",
    "cur.execute(\"\"\"\n",
    "    CREATE TABLE IF NOT EXISTS \"Business_Info\"(\n",
    "    \"PK_Info_ID\" BIGINT NOT NULL  PRIMARY KEY,\n",
    "    \"Industry\" TEXT NOT NULL,\n",
    "    \"Name\" TEXT NOT NULL,\n",
    "    \"City\" TEXT NOT NULL\n",
    ");\"\"\")\n",
    "# creating table License_Status\n",
    "cur.execute(\"\"\"\n",
    "    CREATE TABLE IF NOT EXISTS  \"License_Status\"(\n",
    "    \"PK_Business_ID\" BIGINT NOT NULL  PRIMARY KEY,\n",
    "    \"FK_Info_ID\" BIGINT NOT NULL,\n",
    "    \"FK_Date_ID\" BIGINT NOT NULL,\n",
    "    \"Status_State\" BOOLEAN NOT NULL,\n",
    "    CONSTRAINT \"license_status_fk_info_id_foreign\" FOREIGN KEY(\"FK_Info_ID\") REFERENCES \"Business_Info\"(\"PK_Info_ID\"),\n",
    "    CONSTRAINT \"license_status_fk_date_id_foreign\" FOREIGN KEY(\"FK_Date_ID\") REFERENCES \"License_Dates\"(\"PK_Date_ID\")\n",
    ");\"\"\")\n"
   ]
  },
  {
   "cell_type": "markdown",
   "metadata": {},
   "source": [
    "##### Inserting data into tables"
   ]
  },
  {
   "cell_type": "code",
   "execution_count": null,
   "metadata": {},
   "outputs": [],
   "source": [
    "Inserting_License_Dates = (\"\"\"\"INSERT INTO License_Dates(\n",
    "PK_Date_ID,\n",
    "Expiration Date,\n",
    "Creation Date,\n",
    "Num_Years\n",
    ")\n",
    "VALUES(%s,%s,%s,%s)\"\"\")\n",
    "Inserting_Business_Info = (\"\"\"\"INSERT INTO Business_Info(\n",
    "PK_Info_ID,\n",
    "Industry,\n",
    "Name,\n",
    "City\n",
    ")\n",
    "VALUES(%s,%s,%s,%s)\n",
    "\n"
   ]
  }
 ],
 "metadata": {
  "kernelspec": {
   "display_name": ".venv",
   "language": "python",
   "name": "python3"
  },
  "language_info": {
   "codemirror_mode": {
    "name": "ipython",
    "version": 3
   },
   "file_extension": ".py",
   "mimetype": "text/x-python",
   "name": "python",
   "nbconvert_exporter": "python",
   "pygments_lexer": "ipython3",
   "version": "3.10.12"
  }
 },
 "nbformat": 4,
 "nbformat_minor": 2
}
